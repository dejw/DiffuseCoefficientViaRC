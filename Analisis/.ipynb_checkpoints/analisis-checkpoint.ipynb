{
 "cells": [
  {
   "cell_type": "code",
   "execution_count": 24,
   "metadata": {
    "scrolled": false
   },
   "outputs": [
    {
     "data": {
      "application/vnd.jupyter.widget-view+json": {
       "model_id": "750e5d77a4474e6d90db161d9e10d053",
       "version_major": 2,
       "version_minor": 0
      },
      "text/plain": [
       "Canvas(toolbar=Toolbar(toolitems=[('Home', 'Reset original view', 'home', 'home'), ('Back', 'Back to previous …"
      ]
     },
     "metadata": {},
     "output_type": "display_data"
    }
   ],
   "source": [
    "# plotD() - plots diffusion coefficiet\n",
    "# plotDNormalized() - plots normalised diffusion coefficient\n",
    "# plotCharacteristics(freq) - plots directional characteristics of certain frequency. Frequencies are:\n",
    "# [100, 125, 160, 200, 250, 315, 400,500, 630, 800, 1000, 1250, 1600, 2000, \n",
    "# 2500, 3150, 4000, 5000,6300, 8000, 10000, 12500,16000]\n",
    "\n",
    "%matplotlib widget\n",
    "Logger = DataLog()\n",
    "Logger.refreshData()\n",
    "Logger.plotDNormalized()"
   ]
  },
  {
   "cell_type": "code",
   "execution_count": 41,
   "metadata": {
    "slideshow": {
     "slide_type": "-"
    }
   },
   "outputs": [],
   "source": [
    "\n",
    "class DataLog:\n",
    "    \n",
    "    def __init__(self):\n",
    "        self.simData = []\n",
    "        self.freq = [100, 125, 160, 200, 250, 315, 400,500, 630, 800, 1000, 1250, 1600, 2000, 2500, 3150, 4000, 5000,6300, 8000, 10000, 12500,16000]\n",
    "        self.ref = [0.196011428105872, 0.298322432092196, 0.305110277919466, 0.204648912206027, 0.423114191873672, 0.551645755908805, 0.667740733371030, 0.716165953311728, 0.671591379556672, 0.553256362788291, 0.492539106436081, 0.474354791745679, 0.407785295667340, 0.392730756569205, 0.361992613045780, 0.346002852618932, 0.338496883909792, 0.339539875964114, 0.358995076141644, 0.365412262983554, 0.417152092418395, 0.449632414785208, 0.440784847191542]\n",
    "        self.simInfo = []\n",
    "        \n",
    "    def refreshData(self):\n",
    "        self.simData = []\n",
    "        self.simInfo = []\n",
    "        \n",
    "        freq = []\n",
    "        \n",
    "        with open(\"inputPressure.txt\", \"r\") as f:\n",
    "            for line in f.read().splitlines():\n",
    "                \n",
    "                if (line == \"START\"):\n",
    "                    continue\n",
    "                    \n",
    "                elif (line == \"STOP\"):\n",
    "                    self.simData.append(freq)\n",
    "                    freq = []\n",
    "                    \n",
    "                else:\n",
    "                    preassureValues = line.split(\",\")\n",
    "                    preassureValues = [float(i) for i in preassureValues]\n",
    "                    freq.append(preassureValues)\n",
    "                    \n",
    "        with open(\"inputInfo.txt\", \"r\") as f:\n",
    "            \n",
    "            for line in f.read().splitlines():\n",
    "                \n",
    "                if line == \"REFERENCE\":\n",
    "                    self.simInfo.append([0 for _ in range(len(self.freq))])\n",
    "                \n",
    "                else:\n",
    "                    rayNumList = line.split(\",\")\n",
    "                    rayNumList = [int(i) for i in rayNumList]\n",
    "                    self.simInfo.append(rayNumList)\n",
    "\n",
    "    def calculateD(self):\n",
    "        outputList = []\n",
    "        for sim in self.simData:\n",
    "            dvalue = []\n",
    "            \n",
    "            for freq in sim:\n",
    "                absPressure = [abs(i) for i in freq]\n",
    "                alpha = pow(sum(absPressure),2)\n",
    "                beta = sum([pow(i,2) for i in absPressure])\n",
    "                gamma = (len(freq)-1)*(sum([pow(i,2) for i in absPressure]) )\n",
    "                dvalue.append((alpha - beta)/gamma)\n",
    "                \n",
    "            outputList.append(dvalue)   \n",
    "        return outputList\n",
    "    \n",
    "    def PrintStatistcis(self):\n",
    "        referenceData = []\n",
    "        simulateData = []\n",
    "        refCount = 1\n",
    "        simCount = 1\n",
    "        \n",
    "#          STAT(freqPressures, rayNumPerFreq, simNumber):\n",
    "        index = 0\n",
    "        for rayNum in self.simInfo:\n",
    "            \n",
    "            if sum(rayNum) == 0:\n",
    "                referenceData.append(Stat(self.simData[index], rayNum, refCount)\n",
    "                refCount += 1\n",
    "            \n",
    "            else:\n",
    "                simulateData.append(Stat(self.simData[index], rayNum, simCount)\n",
    "                simCount += 1\n",
    "            \n",
    "            index += 1\n",
    "            \n",
    "        for Ref in ReferenceDataIndexes:\n",
    "            for Sim in SimulateDataIndexes:\n",
    "                \n",
    "                \n",
    "        \"\"\"\n",
    "        LETS THINK:\n",
    "        \n",
    "        1. The information should have:\n",
    "            a) Simulation Number\n",
    "            b) Number of Rays used per frequency -> this needs to be be written doen\n",
    "            c) Covariance between pressures of reference and simualted data per frequency -> numpy done\n",
    "            d) Average, Mean, Standard Deviation -> this can be done using numpy\n",
    "            e) \n",
    "        \"\"\"\n",
    "        \n",
    "    def plotD(self):\n",
    "        \n",
    "        plt.figure(1)\n",
    "        plt.grid(b=True)\n",
    "        plt.xlabel(\"Frequency [Hz]\")\n",
    "        plt.ylabel(\"d value\")\n",
    "        \n",
    "        count = 1\n",
    "        currentLine = []\n",
    "        \n",
    "        for dValues in self.calculateD():\n",
    "            plt.plot(self.freq, dValues)\n",
    "            currentLine.append(\"Sim n. \" + str(count))\n",
    "            count += 1\n",
    "\n",
    "        plt.legend(currentLine)\n",
    "        \n",
    "    def plotDNormalized(self):\n",
    "\n",
    "        plt.figure(1)\n",
    "        plt.grid(b=True)\n",
    "        plt.xlabel(\"Frequency [Hz]\")\n",
    "        plt.ylabel(\"d value\")\n",
    "        \n",
    "        count = 1\n",
    "        currentLine = []\n",
    "        \n",
    "        for dValues in self.calculateD():\n",
    "            \n",
    "            # normalization: (dvalue - dreference) / (1 - dreference)\n",
    "            dNormalValues = [(dValues[i]-self.ref[i]) / (1 - self.ref[i]) for i in range(len(dValues))]\n",
    "            \n",
    "            plt.plot(self.freq, dNormalValues)\n",
    "            currentLine.append(\"Sim n. \" + str(count))\n",
    "            count += 1\n",
    "\n",
    "        plt.legend(currentLine)\n",
    "\n",
    "    def plotCharacteristics(self, freq):\n",
    "        \n",
    "        simCount = 1\n",
    "        fig = plt.figure(freq)\n",
    "        \n",
    "        # Turning and making sure that polar plot starts at -90' and ends at 90'\n",
    "        ax = fig.add_subplot(111, polar=True)\n",
    "        ax.set_thetamin(-90)\n",
    "        ax.set_thetamax(90)\n",
    "        ax.set_theta_zero_location(\"N\")\n",
    "        ax.set_xticks(np.deg2rad(np.linspace(90,  -90, len(self.freq), endpoint=False)))\n",
    "        \n",
    "        plt.grid(b=True)\n",
    "        plt.title(\"Frequency: \" + str(self.freq[freq]) + \"Hz\")\n",
    "        \n",
    "        for sim in self.simData:\n",
    "            \n",
    "            deg = np.deg2rad(np.linspace(90,  -90, len(sim[freq]), endpoint=False))\n",
    "            plt.polar(deg, sim[freq])\n",
    "            self.currentLine.append(\"Sim n. \" + str(simCount))\n",
    "            simCount += 1\n",
    "            plt.legend(self.currentLine)\n",
    "\n",
    "            \n",
    "            "
   ]
  },
  {
   "cell_type": "code",
   "execution_count": 40,
   "metadata": {},
   "outputs": [],
   "source": [
    "class Stat:\n",
    "    \n",
    "    def __init__(self, freqPressures, rayNumPerFreq, simNumber):\n",
    "        self._freqPressuresList = freqPressuresList\n",
    "        self._rayNumPerFreq = ray\n",
    "        self._simNum = simNum\n",
    "    \n",
    "    def __repr__(self):\n",
    "        return \"Class: %s, Sim n. %d, Total Number Of Rays: %d\" % (self.__name__,self._simNum,sum(self._rayNumPerFreq) )\n",
    "    \n",
    "     def __str__(self):\n",
    "        return \"Class: %s, Sim n. %d, Total Number Of Rays: %d\" % (self.__name__,self._simNum,sum(self._rayNumPerFreq) )\n",
    "    \n",
    "    def getPressure(self, freq):\n",
    "        if self.outOfSize(freq):\n",
    "            print(\"Wrong frequency input\")\n",
    "            return None \n",
    "        else:\n",
    "            return self._freqPressuresList[freq]\n",
    "        \n",
    "    def getMean(self, freq):\n",
    "        temp = self.getPressure(freq)\n",
    "        \n",
    "        if temp is not None:\n",
    "            pressures = np.array(temp)\n",
    "            return np.mean(pressures)\n",
    "        else:\n",
    "            return None\n",
    "    \n",
    "    def getStd(self, freq):\n",
    "        temp = self.getPressure(freq)\n",
    "        \n",
    "        if temp is not None:\n",
    "            pressures = np.array(temp)\n",
    "            return np.std(pressures)\n",
    "        else:\n",
    "            return None\n",
    "        \n",
    "    def getMedian(self, freq):\n",
    "        temp = self.getPressure(freq)\n",
    "        \n",
    "        if temp is not None:\n",
    "            pressures = np.array(temp)\n",
    "            return np.std(pressures)\n",
    "        else:\n",
    "            return None\n",
    "        \n",
    "    def getCov(self, other, freq):\n",
    "        thisPressure = self._freqPressuresList[freq]\n",
    "        otherPressure = other.getFreqPressures()[freq]\n",
    "        \n",
    "        covMat = np.stack(thisPressure, otherPressure)\n",
    "        return np.cov(cov_mat)\n",
    "        \n",
    "    def outOfSize(self, freq):\n",
    "        return not (0 <= freq < len(self._freqPressuresList))\n",
    "    \n",
    "    def getFreqPressures(self):\n",
    "        return self._freqPressuresList.copy()\n",
    "        \n",
    "        \n",
    "    "
   ]
  },
  {
   "cell_type": "code",
   "execution_count": 2,
   "metadata": {},
   "outputs": [
    {
     "data": {
      "text/plain": [
       "'\\nI want to look it like this:\\n# 1. There should be a graph that calculates d paremeter in the third octave spectrum\\n# 2. The should be characteristics of the diffusion calculated per frequency: so\\ntheir shpuld be 23 characteristic graps .. it would be cool if they were 3D\\n# 3. there should be referecnce graphs that are caluclated from real time results\\n# 4. Statistics that compare 2 set  of date between them:\\na) correlation between two set of data: real, simualted FEM, simulated RayTrace\\n\\n======================\\n\\nI need to decde how data in the file should look like \\n\\n\\n'"
      ]
     },
     "execution_count": 2,
     "metadata": {},
     "output_type": "execute_result"
    }
   ],
   "source": [
    "\n",
    "\"\"\"this notebook veiws data from ray tracer buidl for measuring diffusion coefficient\"\"\"\n",
    "import statistics\n",
    "import matplotlib.pyplot as plt\n",
    "import numpy as np # This is for calucaltion of the covariance and utilities\n",
    "\n",
    "\"\"\"\n",
    "I want to look it like this:\n",
    "# 1. There should be a graph that calculates d paremeter in the third octave spectrum\n",
    "# 2. The should be characteristics of the diffusion calculated per frequency: so\n",
    "their shpuld be 23 characteristic graps .. it would be cool if they were 3D\n",
    "# 3. there should be referecnce graphs that are caluclated from real time results\n",
    "# 4. Statistics that compare 2 set  of date between them:\n",
    "a) correlation between two set of data: real, simualted FEM, simulated RayTrace\n",
    "\n",
    "======================\n",
    "\n",
    "I need to decde how data in the file should look like \n",
    "\n",
    "\n",
    "\"\"\""
   ]
  },
  {
   "cell_type": "code",
   "execution_count": 1,
   "metadata": {},
   "outputs": [
    {
     "name": "stdout",
     "output_type": "stream",
     "text": [
      "1.4527504814605781e-06,1.801609390265303e-06,3.19486865156483e-06,3.6298980165345e-06,4.96844263928821e-06,4.00732620277206e-06,6.78646443272514e-06,5.2267036691277e-06,9.4653212323352e-06,1.281363552787038e-05,8.78484023112077e-06,2.29804843751578e-06,2.411314013917028e-06,2.373051134302132e-06,4.08489660249297e-06,5.28456756266269e-06,5.32983379201715e-06,7.32895983030012e-06,3.95906779498873e-06,6.3136561405798406e-06,5.04033907800351e-06,6.35584654845601e-06,5.2868710378814e-06,2.8853580694634403e-06,3.20725140064817e-06,1.647429883959348e-06,8.30339822978753e-06,1.1771703814064771e-05,8.14839880893571e-06,3.49054932178141e-06,4.66303893707618e-06,3.57735397185724e-06,4.33792404159377e-06,4.01240640399188e-06,2.9091677260563803e-06,1.729854609636505e-06,2.484738996041517e-06,\n"
     ]
    }
   ],
   "source": [
    "direct1 = \"\"\"7.84637614946472e-07, 9.01598274957922e-07, 1.74257719727411e-06, 2.03531097467380e-06, 3.22366344760327e-06, 2.17329050976029e-06, 2.89293487143080e-06, 3.35608803479295e-06, 3.05614222795408e-06, 7.86582028193122e-06, 4.62466424365475e-06, 1.23743627734726e-06, 1.50884165691942e-06, 1.41214688539833e-06, 2.47228547802071e-06, 2.27801108120107e-06, 2.55220428046909e-06, 3.43187202545746e-06, 2.22131469155408e-06,2.76379266765553e-06,3.21403554875676e-06,3.43617289332224e-06,3.02979037864322e-06,1.05871006249498e-06,1.45987064161732e-06,8.52820397732523e-07,3.79573924245547e-06,3.6958863309159e-06,6.46433725386492e-06,1.80549303035336e-06,2.97520929891776e-06,1.8243573110548e-06,1.70728129681613e-06,1.6406905537123e-06,1.48370354968231e-06,1.09428401793708e-06,6.57743745656047e-07\"\"\"\n",
    "direct2 = \"\"\"6.68112866514106e-07,9.00011115307381e-07,1.45229145429072e-06,1.59458704186070e-06,1.74477919168494e-06,1.83403569301177e-06,3.89352956129434e-06,1.87061563433475e-06,6.40917900438112e-06,4.94781524593916e-06,4.16017598746602e-06,1.06061216016852e-06,9.02472356997608e-07,9.60904248903802e-07,1.61261112447226e-06,3.00655648146162e-06,2.77762951154806e-06,3.89708780484266e-06,1.73775310343465e-06,3.54986347292431e-06,1.82630352924675e-06,2.91967365513377e-06,2.25708065923818e-06,1.82664800696846e-06,1.74738075903085e-06,7.94609486226825e-07,4.50765898733206e-06,8.07581748314887e-06,1.68406155507079e-06,1.68505629142805e-06,1.68782963815842e-06,1.75299666080244e-06,2.63064274477764e-06,2.37171585027958e-06,1.42546417637407e-06,6.35570591699425e-07,1.82699525038547e-06\"\"\"\n",
    "sepList1 = direct1.split(\",\")\n",
    "sepList2 = direct2.split(\",\")\n",
    "sepList1 = [float(i) for i in sepList1]\n",
    "sepList2 = [float(i) for i in sepList2]\n",
    "outList = []\n",
    "for num in range(len(sepList1)):\n",
    "    outList.append(sepList1[num] + sepList2[num])\n",
    "outstr = \"\"\n",
    "for elem in outList:\n",
    "    outstr += str(elem) + \",\";\n",
    "\n",
    "print(outstr)\n"
   ]
  },
  {
   "cell_type": "code",
   "execution_count": null,
   "metadata": {},
   "outputs": [],
   "source": [
    "nums = [1.82699525038547e-06,6.35570591699425e-07,1.42546417637407e-06,2.37171585027958e-06,2.63064274477764e-06,1.75299666080244e-06,1.68782963815842e-06,1.68505629142805e-06,1.68406155507079e-06,8.07581748314887e-06,4.50765898733206e-06,7.94609486226825e-07,1.74738075903085e-06,1.82664800696846e-06,2.25708065923818e-06,2.91967365513377e-06,1.82630352924675e-06,3.54986347292431e-06,1.73775310343465e-06]\n",
    "\n",
    "nums.reverse()\n",
    "out = \"\"\n",
    "for num in nums:\n",
    "    out += str(num) + \",\"\n",
    "print(out)"
   ]
  },
  {
   "cell_type": "code",
   "execution_count": 71,
   "metadata": {},
   "outputs": [
    {
     "name": "stdout",
     "output_type": "stream",
     "text": [
      "37\n"
     ]
    }
   ],
   "source": [
    "a = [1.20644e-06,1.72519e-06,3.1131e-06,4.3002e-06,3.01008e-06,5.5391e-06,6.1837e-06,7.3434e-06,1.02714e-05,6.8718e-06,4.3715e-06,1.66433e-06,1.99968e-06,2.1817200000000003e-06,3.2061e-06,4.8150000000000005e-06,6.7078e-06,5.3169e-06,4.6944e-06,6.7262e-06,4.0609e-06,4.9398e-06,4.0007e-06,1.93593e-06,2.5891000000000003e-06,1.4237500000000001e-06,5.4897e-06,5.7806999999999996e-06,1.14254e-05,3.8017e-06,6.0276e-06,3.9557e-06,2.54499e-06,2.31994e-06,2.3864e-06,1.4181e-06,1.65305e-06]\n",
    "print(len(a))"
   ]
  },
  {
   "cell_type": "code",
   "execution_count": null,
   "metadata": {},
   "outputs": [],
   "source": []
  },
  {
   "cell_type": "code",
   "execution_count": 26,
   "metadata": {},
   "outputs": [
    {
     "name": "stdout",
     "output_type": "stream",
     "text": [
      "[16000, 12500, 10000, 8000, 6300, 5000, 4000, 3150, 2500, 2000, 1600, 1250, 1000, 800, 630, 500, 400, 315, 250, 200, 160, 125, 100]\n"
     ]
    }
   ],
   "source": [
    "num = [100, 125, 160, 200, 250, 315, 400, 500, 630, 800, 1000, 1250, 1600, 2000, 2500, 3150, 4000, 5000,6300, 8000, 10000, 12500,16000]\n",
    "num.reverse()\n",
    "print(num)"
   ]
  }
 ],
 "metadata": {
  "kernelspec": {
   "display_name": "Python 3",
   "language": "python",
   "name": "python3"
  },
  "language_info": {
   "codemirror_mode": {
    "name": "ipython",
    "version": 3
   },
   "file_extension": ".py",
   "mimetype": "text/x-python",
   "name": "python",
   "nbconvert_exporter": "python",
   "pygments_lexer": "ipython3",
   "version": "3.8.4"
  }
 },
 "nbformat": 4,
 "nbformat_minor": 2
}
